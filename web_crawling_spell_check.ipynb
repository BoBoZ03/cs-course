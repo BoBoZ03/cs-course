{
 "cells": [
  {
   "cell_type": "code",
   "execution_count": 1,
   "metadata": {},
   "outputs": [],
   "source": [
    "import pandas as pd\n",
    "import numpy as np\n",
    "import requests\n",
    "import re\n",
    "import string\n",
    "\n",
    "from bs4 import BeautifulSoup as bs\n",
    "from autocorrect import Speller"
   ]
  },
  {
   "cell_type": "code",
   "execution_count": 2,
   "metadata": {},
   "outputs": [],
   "source": [
    "def get_data():\n",
    "\n",
    "    url = \"https://www.theepochtimes.com/study-discovers-gene-involved-in-chronic-pain-offers-hope-in-developing-new-treatment_4536747.html\" \n",
    "    headers = {'User-Agent': 'genghua12345@gmail.com'}\n",
    "    response = requests.get(url, headers=headers)\n",
    "\n",
    "    return response"
   ]
  },
  {
   "cell_type": "code",
   "execution_count": 3,
   "metadata": {},
   "outputs": [],
   "source": [
    "def operation(): \n",
    "\n",
    "    request = get_data().text \n",
    "    soup = bs(request, 'html.parser') \n",
    "    content = soup.find(\"div\", class_=\"post_content\") \n",
    "\n",
    "    description = [] \n",
    "    description.append(content.text.replace('\\n', ' ').replace('\\xa0', ' ').strip()) \n",
    "\n",
    "    words = [''.join(letter for letter in word if letter not in string.punctuation) for word in description] \n",
    "    word = ' '.join(words).split() \n",
    "\n",
    "    spell = Speller(lang='en') \n",
    "\n",
    "    corrected = [] \n",
    "    errors = [] \n",
    "    num_errors = 0 \n",
    "    \n",
    "    for i in range(len(word)): \n",
    "        corrected.append(spell(word[i])) \n",
    "        if corrected[i] != word[i]: \n",
    "            errors.append(str(i) + ' ' + word[i]) \n",
    "            num_errors += 1 \n",
    "\n",
    "    return errors, num_errors "
   ]
  },
  {
   "cell_type": "code",
   "execution_count": 4,
   "metadata": {},
   "outputs": [
    {
     "data": {
      "text/plain": [
       "['3 UK’s',\n",
       " '23 NCX3',\n",
       " '28 amplifying',\n",
       " '44 NCX3',\n",
       " '63 NCX3',\n",
       " '64 alleviated',\n",
       " '85 NCX3',\n",
       " '113 NCX3',\n",
       " '136 NCX3',\n",
       " '144 NCX3',\n",
       " '191 NCX3',\n",
       " '220 NCX3',\n",
       " '225 NCX3',\n",
       " '260 NCX3',\n",
       " '277 windup',\n",
       " '287 stimulations',\n",
       " '349 NCX3']"
      ]
     },
     "execution_count": 4,
     "metadata": {},
     "output_type": "execute_result"
    }
   ],
   "source": [
    "errors, num = operation() "
   ]
  }
 ],
 "metadata": {
  "kernelspec": {
   "display_name": "Python 3.10.6 ('env': venv)",
   "language": "python",
   "name": "python3"
  },
  "language_info": {
   "codemirror_mode": {
    "name": "ipython",
    "version": 3
   },
   "file_extension": ".py",
   "mimetype": "text/x-python",
   "name": "python",
   "nbconvert_exporter": "python",
   "pygments_lexer": "ipython3",
   "version": "3.10.6"
  },
  "orig_nbformat": 4,
  "vscode": {
   "interpreter": {
    "hash": "ed117ebb2dc062602ef684ff3d56ee56805a322ec701ce93c248ff3e8a55d551"
   }
  }
 },
 "nbformat": 4,
 "nbformat_minor": 2
}
